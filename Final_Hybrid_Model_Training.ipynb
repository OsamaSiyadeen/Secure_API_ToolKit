{
 "cells": [
  {
   "cell_type": "markdown",
   "id": "a19be990",
   "metadata": {},
   "source": [
    "# 🛠️ OS-Based Ransomware Model (Local Compatible Version)\n",
    "This notebook retrains the OS-level detection model using your current environment's `scikit-learn` version to ensure compatibility."
   ]
  },
  {
   "cell_type": "code",
   "execution_count": 1,
   "id": "8020e58d",
   "metadata": {},
   "outputs": [
    {
     "name": "stdout",
     "output_type": "stream",
     "text": [
      "✅ Loaded 7106 API sequences and labels\n"
     ]
    }
   ],
   "source": [
    "# Load Data\n",
    "import pandas as pd\n",
    "\n",
    "api = pd.read_csv(\"API_Test.csv\")\n",
    "labels = pd.read_csv(\"labels.csv\")\n",
    "\n",
    "assert len(api) == len(labels), \"Mismatch between API and label rows\"\n",
    "\n",
    "print(f\"Loaded {len(api)} API sequences and labels\")"
   ]
  },
  {
   "cell_type": "code",
   "execution_count": 2,
   "id": "2a55be8f",
   "metadata": {},
   "outputs": [
    {
     "name": "stdout",
     "output_type": "stream",
     "text": [
      "✅ TF-IDF shape: (7106, 278), Labels: 1 classes\n"
     ]
    }
   ],
   "source": [
    "# Convert API sequences to TF-IDF and map labels\n",
    "from sklearn.feature_extraction.text import TfidfVectorizer\n",
    "\n",
    "vectorizer = TfidfVectorizer()\n",
    "X = vectorizer.fit_transform(api.iloc[:, 0])  # Assuming 1st column = API calls\n",
    "\n",
    "# Convert 'Benign' to 0, everything else to 1\n",
    "y = labels.iloc[:, 0].str.lower().map(lambda x: 0 if \"benign\" in x else 1)\n",
    "\n",
    "print(f\" TF-IDF shape: {X.shape}, Labels: {y.nunique()} classes\")"
   ]
  },
  {
   "cell_type": "code",
   "execution_count": 3,
   "id": "b4b7f06a",
   "metadata": {},
   "outputs": [
    {
     "name": "stdout",
     "output_type": "stream",
     "text": [
      "✅ Training set: (5684, 278), Test set: (1422, 278)\n"
     ]
    }
   ],
   "source": [
    "# Split the data\n",
    "from sklearn.model_selection import train_test_split\n",
    "\n",
    "X_train, X_test, y_train, y_test = train_test_split(X, y, stratify=y, test_size=0.2, random_state=42)\n",
    "print(f\" Training set: {X_train.shape}, Test set: {X_test.shape}\")"
   ]
  },
  {
   "cell_type": "code",
   "execution_count": 4,
   "id": "916b98ea",
   "metadata": {},
   "outputs": [
    {
     "name": "stdout",
     "output_type": "stream",
     "text": [
      "✅ Model trained\n"
     ]
    }
   ],
   "source": [
    "# ✅ Train the Random Forest model\n",
    "from sklearn.ensemble import RandomForestClassifier\n",
    "\n",
    "model = RandomForestClassifier(n_estimators=100, random_state=42)\n",
    "model.fit(X_train, y_train)\n",
    "print(\"Model trained\")"
   ]
  },
  {
   "cell_type": "code",
   "execution_count": 5,
   "id": "dc2db2bb",
   "metadata": {},
   "outputs": [
    {
     "name": "stdout",
     "output_type": "stream",
     "text": [
      "🎯 Classification Report:\n",
      "              precision    recall  f1-score   support\n",
      "\n",
      "           1       1.00      1.00      1.00      1422\n",
      "\n",
      "    accuracy                           1.00      1422\n",
      "   macro avg       1.00      1.00      1.00      1422\n",
      "weighted avg       1.00      1.00      1.00      1422\n",
      "\n"
     ]
    }
   ],
   "source": [
    "# ✅ Evaluate the model\n",
    "from sklearn.metrics import classification_report\n",
    "\n",
    "y_pred = model.predict(X_test)\n",
    "print(\"Classification Report:\")\n",
    "print(classification_report(y_test, y_pred))"
   ]
  },
  {
   "cell_type": "code",
   "execution_count": 8,
   "id": "ad00942f",
   "metadata": {},
   "outputs": [
    {
     "name": "stdout",
     "output_type": "stream",
     "text": [
      "✅ Saved: ransomware_model_OS_BASED.pkl & tfidf_vectorizer.pkl\n"
     ]
    }
   ],
   "source": [
    "# Save model and vectorizer for hybrid detection\n",
    "import joblib\n",
    "\n",
    "joblib.dump(model, \"ransomware_model_OS_BASED.pkl\")\n",
    "joblib.dump(vectorizer, \"tfidf_vectorizer.pkl\")\n",
    "print(\"Saved: ransomware_model_OS_BASED.pkl & tfidf_vectorizer.pkl\")"
   ]
  },
  {
   "cell_type": "code",
   "execution_count": 9,
   "id": "3cb31ece-3855-431d-83ee-d675fd7d32ea",
   "metadata": {},
   "outputs": [
    {
     "name": "stdout",
     "output_type": "stream",
     "text": [
      "scikit-learn: 1.6.1\n",
      "joblib: 1.4.2\n"
     ]
    }
   ],
   "source": [
    "import sklearn, joblib\n",
    "print(\"scikit-learn:\", sklearn.__version__)\n",
    "print(\"joblib:\", joblib.__version__)\n"
   ]
  },
  {
   "cell_type": "code",
   "execution_count": 10,
   "id": "f749058f-2890-4145-9e95-bb432a7eafc6",
   "metadata": {},
   "outputs": [
    {
     "name": "stdout",
     "output_type": "stream",
     "text": [
      "✅ Model and vectorizer loaded successfully!\n"
     ]
    }
   ],
   "source": [
    "import joblib\n",
    "\n",
    "# Load models\n",
    "os_model = joblib.load(\"ransomware_model_OS_BASED.pkl\")\n",
    "tfidf = joblib.load(\"tfidf_vectorizer.pkl\")\n",
    "\n",
    "print(\"Model and vectorizer loaded successfully!\")\n"
   ]
  },
  {
   "cell_type": "code",
   "execution_count": 13,
   "id": "54dc8654-1d73-4d7e-b229-0bbdd92333cd",
   "metadata": {},
   "outputs": [],
   "source": [
    "# Step 1: Import Libraries\n",
    "import pandas as pd\n",
    "import numpy as np\n",
    "from sklearn.model_selection import train_test_split\n",
    "from sklearn.ensemble import RandomForestClassifier, IsolationForest\n",
    "from sklearn.preprocessing import StandardScaler\n",
    "from sklearn.metrics import classification_report, accuracy_score\n",
    "import joblib\n",
    "import matplotlib.pyplot as plt\n",
    "import seaborn as sns\n",
    "import warnings\n",
    "warnings.filterwarnings('ignore')"
   ]
  },
  {
   "cell_type": "code",
   "execution_count": 14,
   "id": "a2f429ad-5cac-4563-94ea-ed38126c0ab8",
   "metadata": {},
   "outputs": [
    {
     "name": "stdout",
     "output_type": "stream",
     "text": [
      "Loaded dataset with shape: (1379274, 14)\n"
     ]
    }
   ],
   "source": [
    "# Step 2: Load Dataset\n",
    "df = pd.read_csv('NF-ToN-IoT.csv', low_memory=False)\n",
    "\n",
    "print(f\"Loaded dataset with shape: {df.shape}\")\n",
    "df = df.dropna()"
   ]
  },
  {
   "cell_type": "code",
   "execution_count": 15,
   "id": "b4177581-049c-4641-99cc-6196c8bbd1d6",
   "metadata": {},
   "outputs": [
    {
     "name": "stdout",
     "output_type": "stream",
     "text": [
      "Label\n",
      "1    1108995\n",
      "0     270279\n",
      "Name: count, dtype: int64\n"
     ]
    }
   ],
   "source": [
    "# Step 3: Feature Selection\n",
    "features = [\n",
    "    'L4_SRC_PORT', 'L4_DST_PORT', 'PROTOCOL', 'IN_BYTES', 'OUT_BYTES',\n",
    "    'IN_PKTS', 'OUT_PKTS', 'TCP_FLAGS', 'FLOW_DURATION_MILLISECONDS'\n",
    "]\n",
    "df = df[features + ['Label']]\n",
    "df = df[df['Label'].isin([0, 1])]  # Ensure binary classification\n",
    "print(df['Label'].value_counts())"
   ]
  },
  {
   "cell_type": "code",
   "execution_count": 16,
   "id": "6a1aa1e8-5fef-4c48-b70a-31e683611656",
   "metadata": {},
   "outputs": [],
   "source": [
    "#  Step 4: Scale Features\n",
    "scaler = StandardScaler()\n",
    "df[features] = scaler.fit_transform(df[features])\n",
    "X = df[features]\n",
    "y = df['Label']"
   ]
  },
  {
   "cell_type": "code",
   "execution_count": 29,
   "id": "adf60b34-fccf-4a07-90cf-2f9c8cc680e7",
   "metadata": {},
   "outputs": [
    {
     "data": {
      "text/plain": [
       "'Model 2: Isolation Forest (Unsupervised)'"
      ]
     },
     "execution_count": 29,
     "metadata": {},
     "output_type": "execute_result"
    }
   ],
   "source": [
    "\"Model 2: Isolation Forest (Unsupervised)\""
   ]
  },
  {
   "cell_type": "code",
   "execution_count": 18,
   "id": "b8e2843e-a03c-4c98-a496-6b528f6d2e3d",
   "metadata": {},
   "outputs": [
    {
     "name": "stdout",
     "output_type": "stream",
     "text": [
      "🎯 Random Forest Classification Report:\n",
      "\n",
      "              precision    recall  f1-score   support\n",
      "\n",
      "           0       1.00      1.00      1.00     81084\n",
      "           1       1.00      1.00      1.00    332699\n",
      "\n",
      "    accuracy                           1.00    413783\n",
      "   macro avg       1.00      1.00      1.00    413783\n",
      "weighted avg       1.00      1.00      1.00    413783\n",
      "\n"
     ]
    }
   ],
   "source": [
    "X_train, X_test, y_train, y_test = train_test_split(X, y, test_size=0.3, stratify=y, random_state=42)\n",
    "rf = RandomForestClassifier(n_estimators=100, random_state=42)\n",
    "rf.fit(X_train, y_train)\n",
    "y_pred_rf = rf.predict(X_test)\n",
    "print(\" Random Forest Classification Report:\\n\")\n",
    "print(classification_report(y_test, y_pred_rf))"
   ]
  },
  {
   "cell_type": "code",
   "execution_count": 28,
   "id": "aafdd5fe-aaf0-4d93-8b2a-3888f98e64ab",
   "metadata": {},
   "outputs": [
    {
     "data": {
      "text/plain": [
       "'Model 2: Isolation Forest (Unsupervised)'"
      ]
     },
     "execution_count": 28,
     "metadata": {},
     "output_type": "execute_result"
    }
   ],
   "source": [
    "\"Model 2: Isolation Forest (Unsupervised)\""
   ]
  },
  {
   "cell_type": "code",
   "execution_count": 19,
   "id": "1a14f98b-8d65-4f96-a991-22bbfb9345d1",
   "metadata": {},
   "outputs": [
    {
     "name": "stdout",
     "output_type": "stream",
     "text": [
      "🔍 Isolation Forest Classification Report:\n",
      "\n",
      "              precision    recall  f1-score   support\n",
      "\n",
      "           0       0.20      0.95      0.33    270279\n",
      "           1       0.88      0.09      0.16   1108995\n",
      "\n",
      "    accuracy                           0.26   1379274\n",
      "   macro avg       0.54      0.52      0.25   1379274\n",
      "weighted avg       0.75      0.26      0.20   1379274\n",
      "\n"
     ]
    }
   ],
   "source": [
    "X_train_unsup = X[y == 0]  # Only normal traffic\n",
    "iso_forest = IsolationForest(n_estimators=100, contamination=0.05, random_state=42)\n",
    "iso_forest.fit(X_train_unsup)\n",
    "y_pred_iso = iso_forest.predict(X)\n",
    "y_pred_iso = np.where(y_pred_iso == -1, 1, 0)\n",
    "print(\"🔍 Isolation Forest Classification Report:\\n\")\n",
    "print(classification_report(y, y_pred_iso))"
   ]
  },
  {
   "cell_type": "code",
   "execution_count": null,
   "id": "5980cda5-540b-4442-8ccb-7b7de3188ae9",
   "metadata": {},
   "outputs": [],
   "source": []
  },
  {
   "cell_type": "code",
   "execution_count": 20,
   "id": "a8e57947-87d4-4427-bc32-b00d47d47871",
   "metadata": {},
   "outputs": [
    {
     "name": "stdout",
     "output_type": "stream",
     "text": [
      "✅ Models and scaler saved.\n"
     ]
    }
   ],
   "source": [
    "joblib.dump(rf, 'network_rf_model.pkl')\n",
    "joblib.dump(iso_forest, 'isolation_forest_model.pkl')\n",
    "joblib.dump(scaler, 'scaler.pkl')\n",
    "print(\"Models and scaler saved.\")"
   ]
  },
  {
   "cell_type": "code",
   "execution_count": 21,
   "id": "c28cb882-f440-4870-8ff1-38bb47279383",
   "metadata": {},
   "outputs": [],
   "source": [
    "net_rf = joblib.load('network_rf_model.pkl')\n",
    "iso_forest = joblib.load('isolation_forest_model.pkl')\n",
    "scaler = joblib.load('scaler.pkl')"
   ]
  },
  {
   "cell_type": "code",
   "execution_count": 22,
   "id": "3ca6141c-92d9-4165-8865-62f63c4a25f6",
   "metadata": {},
   "outputs": [],
   "source": [
    "# Example API call sequence (OS-level)\n",
    "api_sequence = \"ldrloaddll ldrgetprocedureaddress regopenkeyexa ntopenkey ntqueryvaluekey ntclose\"\n",
    "\n",
    "# Example network flow features (same order as training):\n",
    "# [L4_SRC_PORT, L4_DST_PORT, PROTOCOL, IN_BYTES, OUT_BYTES, IN_PKTS, OUT_PKTS, TCP_FLAGS, FLOW_DURATION_MILLISECONDS]\n",
    "net_features = [123, 80, 6, 1500, 1200, 50, 40, 2, 300]"
   ]
  },
  {
   "cell_type": "code",
   "execution_count": 23,
   "id": "d0dd2529-7734-4d75-9c5c-d2af2202b118",
   "metadata": {},
   "outputs": [],
   "source": [
    "# Vectorize the API sequence\n",
    "api_vector = tfidf.transform([api_sequence])\n",
    "os_pred = os_model.predict(api_vector)[0]\n",
    "\n",
    "# Scale and predict for network flow\n",
    "net_scaled = scaler.transform([net_features])\n",
    "net_rf_pred = net_rf.predict(net_scaled)[0]\n",
    "iso_pred = iso_forest.predict(net_scaled)[0]\n",
    "iso_anomaly = 1 if iso_pred == -1 else 0"
   ]
  },
  {
   "cell_type": "code",
   "execution_count": 25,
   "id": "a9e19525-52ec-47d7-8c9f-662f0c710280",
   "metadata": {},
   "outputs": [
    {
     "name": "stdout",
     "output_type": "stream",
     "text": [
      "OS Model Prediction       : 1\n",
      "Network RF Prediction     : 0\n",
      "Isolation Forest Anomaly  : 1\n",
      "🔒 Final Verdict           : ⚠️ THREAT DETECTED\n"
     ]
    }
   ],
   "source": [
    "# Combine the verdict\n",
    "if os_pred == 1 or net_rf_pred == 1 or iso_anomaly == 1:\n",
    "    verdict = \"⚠️ THREAT DETECTED\"\n",
    "else:\n",
    "    verdict = \"✅ Clean\"\n",
    "\n",
    "print(\"OS Model Prediction       :\", os_pred)\n",
    "print(\"Network RF Prediction     :\", net_rf_pred)\n",
    "print(\"Isolation Forest Anomaly  :\", iso_anomaly)\n",
    "print(\"🔒 Final Verdict           :\", verdict)"
   ]
  },
  {
   "cell_type": "code",
   "execution_count": null,
   "id": "112834aa-309a-4519-855e-23062d845be9",
   "metadata": {},
   "outputs": [],
   "source": []
  }
 ],
 "metadata": {
  "kernelspec": {
   "display_name": "Python 3 (ipykernel)",
   "language": "python",
   "name": "python3"
  },
  "language_info": {
   "codemirror_mode": {
    "name": "ipython",
    "version": 3
   },
   "file_extension": ".py",
   "mimetype": "text/x-python",
   "name": "python",
   "nbconvert_exporter": "python",
   "pygments_lexer": "ipython3",
   "version": "3.11.4"
  }
 },
 "nbformat": 4,
 "nbformat_minor": 5
}
